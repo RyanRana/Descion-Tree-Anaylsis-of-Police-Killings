{
 "cells": [
  {
   "cell_type": "markdown",
   "metadata": {},
   "source": [
    "# Comparing Names of People Killed Across Different Datasets\n",
    "\n",
    "The first part of the analysis is to see if the people killed are consistently recorded by all 3 datasets. To do that, we will see how many names match between them."
   ]
  },
  {
   "cell_type": "code",
   "execution_count": 1,
   "metadata": {},
   "outputs": [],
   "source": [
    "import pandas as pd\n",
    "import numpy as np\n",
    "from difflib import SequenceMatcher\n",
    "import Levenshtein as lev"
   ]
  },
  {
   "cell_type": "code",
   "execution_count": 59,
   "metadata": {},
   "outputs": [],
   "source": [
    "\n",
    "mpv = pd.read_csv(\"data/MPVDataset.csv\")\n"
   ]
  },
  {
   "cell_type": "code",
   "execution_count": 4,
   "metadata": {},
   "outputs": [
    {
     "data": {
      "text/html": [
       "<div>\n",
       "<style scoped>\n",
       "    .dataframe tbody tr th:only-of-type {\n",
       "        vertical-align: middle;\n",
       "    }\n",
       "\n",
       "    .dataframe tbody tr th {\n",
       "        vertical-align: top;\n",
       "    }\n",
       "\n",
       "    .dataframe thead th {\n",
       "        text-align: right;\n",
       "    }\n",
       "</style>\n",
       "<table border=\"1\" class=\"dataframe\">\n",
       "  <thead>\n",
       "    <tr style=\"text-align: right;\">\n",
       "      <th></th>\n",
       "      <th>Victim's name</th>\n",
       "      <th>Victim's age</th>\n",
       "      <th>Victim's gender</th>\n",
       "      <th>Victim's race</th>\n",
       "      <th>URL of image of victim</th>\n",
       "      <th>Date of Incident (month/day/year)</th>\n",
       "      <th>Street Address of Incident</th>\n",
       "      <th>City</th>\n",
       "      <th>State</th>\n",
       "      <th>Zipcode</th>\n",
       "      <th>...</th>\n",
       "      <th>Criminal Charges?</th>\n",
       "      <th>Link to news article or photo of official document</th>\n",
       "      <th>Symptoms of mental illness?</th>\n",
       "      <th>Unarmed</th>\n",
       "      <th>Alleged Weapon (Source: WaPo)</th>\n",
       "      <th>Alleged Threat Level (Source: WaPo)</th>\n",
       "      <th>Fleeing (Source: WaPo)</th>\n",
       "      <th>Body Camera (Source: WaPo)</th>\n",
       "      <th>WaPo ID (If included in WaPo database)</th>\n",
       "      <th>Unnamed: 24</th>\n",
       "    </tr>\n",
       "  </thead>\n",
       "  <tbody>\n",
       "    <tr>\n",
       "      <th>6314</th>\n",
       "      <td>Andrew L. Closson</td>\n",
       "      <td>21</td>\n",
       "      <td>Male</td>\n",
       "      <td>White</td>\n",
       "      <td>http://www.superiortelegram.com/sites/default/...</td>\n",
       "      <td>1/1/13</td>\n",
       "      <td>U.S. Highway 53</td>\n",
       "      <td>Gordon</td>\n",
       "      <td>WI</td>\n",
       "      <td>54838.0</td>\n",
       "      <td>...</td>\n",
       "      <td>No Known Charges</td>\n",
       "      <td>http://www.superiortelegram.com/content/deputy...</td>\n",
       "      <td>Drug or alcohol use</td>\n",
       "      <td>Allegedly Armed</td>\n",
       "      <td>NaN</td>\n",
       "      <td>NaN</td>\n",
       "      <td>NaN</td>\n",
       "      <td>NaN</td>\n",
       "      <td>NaN</td>\n",
       "      <td>NaN</td>\n",
       "    </tr>\n",
       "    <tr>\n",
       "      <th>6315</th>\n",
       "      <td>Mark Chavez</td>\n",
       "      <td>49</td>\n",
       "      <td>Male</td>\n",
       "      <td>Hispanic</td>\n",
       "      <td>http://www.tricitytribuneusa.com/wp-content/up...</td>\n",
       "      <td>1/1/13</td>\n",
       "      <td>912 Loma Linda Ave.</td>\n",
       "      <td>Farmington</td>\n",
       "      <td>NM</td>\n",
       "      <td>87401.0</td>\n",
       "      <td>...</td>\n",
       "      <td>No Known Charges</td>\n",
       "      <td>http://www.daily-times.com/farmington-news/ci_...</td>\n",
       "      <td>No</td>\n",
       "      <td>Allegedly Armed</td>\n",
       "      <td>NaN</td>\n",
       "      <td>NaN</td>\n",
       "      <td>NaN</td>\n",
       "      <td>NaN</td>\n",
       "      <td>NaN</td>\n",
       "      <td>NaN</td>\n",
       "    </tr>\n",
       "    <tr>\n",
       "      <th>6316</th>\n",
       "      <td>Andrew Layton</td>\n",
       "      <td>26</td>\n",
       "      <td>Male</td>\n",
       "      <td>White</td>\n",
       "      <td>http://bloximages.chicago2.vip.townnews.com/ma...</td>\n",
       "      <td>1/1/13</td>\n",
       "      <td>410 S Riverfront Drive</td>\n",
       "      <td>Mankato</td>\n",
       "      <td>MN</td>\n",
       "      <td>56001.0</td>\n",
       "      <td>...</td>\n",
       "      <td>No Known Charges</td>\n",
       "      <td>http://www.tmcnet.com/usubmit/2013/02/21/69388...</td>\n",
       "      <td>No</td>\n",
       "      <td>Allegedly Armed</td>\n",
       "      <td>NaN</td>\n",
       "      <td>NaN</td>\n",
       "      <td>NaN</td>\n",
       "      <td>NaN</td>\n",
       "      <td>NaN</td>\n",
       "      <td>NaN</td>\n",
       "    </tr>\n",
       "    <tr>\n",
       "      <th>6317</th>\n",
       "      <td>Tyree Bell</td>\n",
       "      <td>31</td>\n",
       "      <td>Male</td>\n",
       "      <td>Black</td>\n",
       "      <td>http://content.omaha.com/media/maps/ps/2013/ja...</td>\n",
       "      <td>1/1/13</td>\n",
       "      <td>3727 N. 42nd St.</td>\n",
       "      <td>Omaha</td>\n",
       "      <td>NE</td>\n",
       "      <td>68111.0</td>\n",
       "      <td>...</td>\n",
       "      <td>No Known Charges</td>\n",
       "      <td>http://www.ketv.com/news/Police-chief-details-...</td>\n",
       "      <td>Yes</td>\n",
       "      <td>Allegedly Armed</td>\n",
       "      <td>NaN</td>\n",
       "      <td>NaN</td>\n",
       "      <td>NaN</td>\n",
       "      <td>NaN</td>\n",
       "      <td>NaN</td>\n",
       "      <td>NaN</td>\n",
       "    </tr>\n",
       "    <tr>\n",
       "      <th>6318</th>\n",
       "      <td>Christopher Tavares</td>\n",
       "      <td>21</td>\n",
       "      <td>Male</td>\n",
       "      <td>Hispanic</td>\n",
       "      <td>http://www.krdo.com/image/view/-/17980228/medR...</td>\n",
       "      <td>1/1/13</td>\n",
       "      <td>Highway 50 and North Elizabeth Street</td>\n",
       "      <td>Pueblo</td>\n",
       "      <td>CO</td>\n",
       "      <td>81008.0</td>\n",
       "      <td>...</td>\n",
       "      <td>No Known Charges</td>\n",
       "      <td>http://www.krdo.com/news/Pueblo-Police-shoot-k...</td>\n",
       "      <td>No</td>\n",
       "      <td>Allegedly Armed</td>\n",
       "      <td>NaN</td>\n",
       "      <td>NaN</td>\n",
       "      <td>NaN</td>\n",
       "      <td>NaN</td>\n",
       "      <td>NaN</td>\n",
       "      <td>NaN</td>\n",
       "    </tr>\n",
       "  </tbody>\n",
       "</table>\n",
       "<p>5 rows × 25 columns</p>\n",
       "</div>"
      ],
      "text/plain": [
       "            Victim's name Victim's age Victim's gender Victim's race  \\\n",
       "6314    Andrew L. Closson           21            Male         White   \n",
       "6315          Mark Chavez           49            Male      Hispanic   \n",
       "6316        Andrew Layton           26            Male         White   \n",
       "6317           Tyree Bell           31            Male         Black   \n",
       "6318  Christopher Tavares           21            Male      Hispanic   \n",
       "\n",
       "                                 URL of image of victim  \\\n",
       "6314  http://www.superiortelegram.com/sites/default/...   \n",
       "6315  http://www.tricitytribuneusa.com/wp-content/up...   \n",
       "6316  http://bloximages.chicago2.vip.townnews.com/ma...   \n",
       "6317  http://content.omaha.com/media/maps/ps/2013/ja...   \n",
       "6318  http://www.krdo.com/image/view/-/17980228/medR...   \n",
       "\n",
       "     Date of Incident (month/day/year)             Street Address of Incident  \\\n",
       "6314                            1/1/13                        U.S. Highway 53   \n",
       "6315                            1/1/13                    912 Loma Linda Ave.   \n",
       "6316                            1/1/13                 410 S Riverfront Drive   \n",
       "6317                            1/1/13                       3727 N. 42nd St.   \n",
       "6318                            1/1/13  Highway 50 and North Elizabeth Street   \n",
       "\n",
       "            City State  Zipcode     ...     Criminal Charges?  \\\n",
       "6314      Gordon    WI  54838.0     ...      No Known Charges   \n",
       "6315  Farmington    NM  87401.0     ...      No Known Charges   \n",
       "6316     Mankato    MN  56001.0     ...      No Known Charges   \n",
       "6317       Omaha    NE  68111.0     ...      No Known Charges   \n",
       "6318      Pueblo    CO  81008.0     ...      No Known Charges   \n",
       "\n",
       "     Link to news article or photo of official document  \\\n",
       "6314  http://www.superiortelegram.com/content/deputy...   \n",
       "6315  http://www.daily-times.com/farmington-news/ci_...   \n",
       "6316  http://www.tmcnet.com/usubmit/2013/02/21/69388...   \n",
       "6317  http://www.ketv.com/news/Police-chief-details-...   \n",
       "6318  http://www.krdo.com/news/Pueblo-Police-shoot-k...   \n",
       "\n",
       "     Symptoms of mental illness?          Unarmed  \\\n",
       "6314         Drug or alcohol use  Allegedly Armed   \n",
       "6315                          No  Allegedly Armed   \n",
       "6316                          No  Allegedly Armed   \n",
       "6317                         Yes  Allegedly Armed   \n",
       "6318                          No  Allegedly Armed   \n",
       "\n",
       "     Alleged Weapon (Source: WaPo) Alleged Threat Level (Source: WaPo)  \\\n",
       "6314                           NaN                                 NaN   \n",
       "6315                           NaN                                 NaN   \n",
       "6316                           NaN                                 NaN   \n",
       "6317                           NaN                                 NaN   \n",
       "6318                           NaN                                 NaN   \n",
       "\n",
       "     Fleeing (Source: WaPo) Body Camera (Source: WaPo)  \\\n",
       "6314                    NaN                        NaN   \n",
       "6315                    NaN                        NaN   \n",
       "6316                    NaN                        NaN   \n",
       "6317                    NaN                        NaN   \n",
       "6318                    NaN                        NaN   \n",
       "\n",
       "     WaPo ID (If included in WaPo database) Unnamed: 24  \n",
       "6314                                    NaN         NaN  \n",
       "6315                                    NaN         NaN  \n",
       "6316                                    NaN         NaN  \n",
       "6317                                    NaN         NaN  \n",
       "6318                                    NaN         NaN  \n",
       "\n",
       "[5 rows x 25 columns]"
      ]
     },
     "execution_count": 4,
     "metadata": {},
     "output_type": "execute_result"
    }
   ],
   "source": [
    "mpv.tail()"
   ]
  },
  {
   "cell_type": "markdown",
   "metadata": {},
   "source": [
    "## Different choices of comparing names\n",
    "\n",
    "It's not just a simple \"in\""
   ]
  },
  {
   "cell_type": "code",
   "execution_count": 7,
   "metadata": {},
   "outputs": [
    {
     "data": {
      "text/plain": [
       "False"
      ]
     },
     "execution_count": 7,
     "metadata": {},
     "output_type": "execute_result"
    }
   ],
   "source": [
    "\"Joseph Johnson\" in \"Joseph Walden Johnson Jr.\""
   ]
  },
  {
   "cell_type": "code",
   "execution_count": 18,
   "metadata": {},
   "outputs": [
    {
     "data": {
      "text/plain": [
       "0.8372093023255814"
      ]
     },
     "execution_count": 18,
     "metadata": {},
     "output_type": "execute_result"
    }
   ],
   "source": [
    "lev.ratio(\"Joseph Walden Johnson Jr.\", \"Joseph Johnson Jr.\")"
   ]
  },
  {
   "cell_type": "code",
   "execution_count": 9,
   "metadata": {},
   "outputs": [
    {
     "data": {
      "text/plain": [
       "0.717948717948718"
      ]
     },
     "execution_count": 9,
     "metadata": {},
     "output_type": "execute_result"
    }
   ],
   "source": [
    "SequenceMatcher(None, \"Joseph Walden Johnson Jr.\", \"Joseph Johnson\").ratio()"
   ]
  },
  {
   "cell_type": "markdown",
   "metadata": {},
   "source": [
    "## Dates After 2015\n",
    "\n",
    "From checking the head and tail of the datasets, Mapping Police Violence and Killed By Police data go back to 2013, but Washington Post data only starts in 2015. We'll start the comparison when all 3 datasets record data, 2015."
   ]
  },
  {
   "cell_type": "code",
   "execution_count": 32,
   "metadata": {},
   "outputs": [],
   "source": [
    "# Cleaning data so the format is standardized\n",
    "mpv_dates = mpv[\"Date of Incident (month/day/year)\"].values\n",
    "mpv_months = [int(date[: date.find(\"/\")]) for date in mpv_dates]\n",
    "mpv_years = [int(\"20\" + date[date.rfind(\"/\") + 1: ]) for date in mpv_dates]\n",
    "mpv[\"month\"] = mpv_months\n",
    "mpv[\"year\"] = mpv_years\n",
    "past2015_mpv = mpv[mpv['year'] >= 2015]"
   ]
  },
  {
   "cell_type": "code",
   "execution_count": 35,
   "metadata": {},
   "outputs": [],
   "source": [
    "\n",
    "mpv_names = past2015_mpv[\"Victim's name\"].values\n"
   ]
  },
  {
   "cell_type": "code",
   "execution_count": 37,
   "metadata": {},
   "outputs": [],
   "source": [
    "# cleaning data\n",
    "new_mpv = []\n",
    "for name in mpv_names:\n",
    "    if name != \"Name withheld by police\":\n",
    "        new_mpv.append(name)\n",
    "mpv_names = new_mpv\n"
   ]
  },
  {
   "cell_type": "code",
   "execution_count": 40,
   "metadata": {},
   "outputs": [
    {
     "name": "stdout",
     "output_type": "stream",
     "text": [
      "Number of names in the Washington Post dataset: \t 3491\n",
      "Number of names in the Mapping Police Violence dataset: \t 4001\n",
      "Number of names in the Killed By Police dataset: \t 3524\n"
     ]
    }
   ],
   "source": [
    "print(\"Number of names in the Mapping Police Violence dataset:\", \"\\t\", len(mpv_names))"
   ]
  }
 ],
 "metadata": {
  "kernelspec": {
   "display_name": "Python 3",
   "language": "python",
   "name": "python3"
  },
  "language_info": {
   "codemirror_mode": {
    "name": "ipython",
    "version": 3
   },
   "file_extension": ".py",
   "mimetype": "text/x-python",
   "name": "python",
   "nbconvert_exporter": "python",
   "pygments_lexer": "ipython3",
   "version": "3.8.3"
  }
 },
 "nbformat": 4,
 "nbformat_minor": 2
}
